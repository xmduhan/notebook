{
 "cells": [
  {
   "cell_type": "markdown",
   "metadata": {},
   "source": [
    "### 1. 日期字符转换"
   ]
  },
  {
   "cell_type": "code",
   "execution_count": 1,
   "metadata": {
    "collapsed": false
   },
   "outputs": [
    {
     "name": "stdout",
     "output_type": "stream",
     "text": [
      "2013-05-28 12:28:00\n",
      "2015.12.03 07:59\n"
     ]
    }
   ],
   "source": [
    "from datetime import datetime\n",
    "print datetime.strptime(\"2013.05.28 12:28\",\"%Y.%m.%d %H:%M\")\n",
    "print datetime.strftime(datetime.now(),\"%Y.%m.%d %H:%M\")"
   ]
  },
  {
   "cell_type": "markdown",
   "metadata": {},
   "source": [
    "### 2. 获取日期信息"
   ]
  },
  {
   "cell_type": "code",
   "execution_count": 2,
   "metadata": {
    "collapsed": false
   },
   "outputs": [
    {
     "name": "stdout",
     "output_type": "stream",
     "text": [
      "2015 12 3 3 7 59 15 943664\n"
     ]
    }
   ],
   "source": [
    "from datetime import datetime\n",
    "d = datetime.now()\n",
    "print d.year, d.month, d.day, d.weekday(), d.hour, d.minute, d.second, d.microsecond"
   ]
  },
  {
   "cell_type": "markdown",
   "metadata": {},
   "source": [
    "### 3. 日期间隔计算"
   ]
  },
  {
   "cell_type": "code",
   "execution_count": 3,
   "metadata": {
    "collapsed": false
   },
   "outputs": [
    {
     "name": "stdout",
     "output_type": "stream",
     "text": [
      "1.001363\n"
     ]
    }
   ],
   "source": [
    "from datetime import datetime\n",
    "from time import sleep\n",
    "d0 = datetime.now()\n",
    "sleep(1)\n",
    "d1 = datetime.now()\n",
    "dt = d1 - d0 \n",
    "print dt.total_seconds()"
   ]
  },
  {
   "cell_type": "markdown",
   "metadata": {},
   "source": [
    "### 4. 日期的相对时间计算"
   ]
  },
  {
   "cell_type": "code",
   "execution_count": 4,
   "metadata": {
    "collapsed": false
   },
   "outputs": [
    {
     "data": {
      "text/plain": [
       "datetime.datetime(2016, 1, 3, 7, 59, 16, 969973)"
      ]
     },
     "execution_count": 4,
     "metadata": {},
     "output_type": "execute_result"
    }
   ],
   "source": [
    "from datetime import datetime\n",
    "from dateutil.relativedelta import relativedelta\n",
    "datetime.now() + relativedelta(months=1)"
   ]
  },
  {
   "cell_type": "markdown",
   "metadata": {},
   "source": [
    "### 5. 万能日期解析器"
   ]
  },
  {
   "cell_type": "code",
   "execution_count": 5,
   "metadata": {
    "collapsed": false
   },
   "outputs": [
    {
     "name": "stdout",
     "output_type": "stream",
     "text": [
      "2013-08-17 00:00:00\n",
      "2013-08-17 00:00:00\n",
      "2013-08-17 00:00:00\n",
      "2013-08-17 00:00:00\n"
     ]
    }
   ],
   "source": [
    "from dateutil import parser\n",
    "print parser.parse(\"20130817\")\n",
    "print parser.parse(\"2013-08-17\")\n",
    "print parser.parse(\"2013/08/17\")\n",
    "print parser.parse(\"ddkdd 20130817\",fuzzy=True)"
   ]
  },
  {
   "cell_type": "markdown",
   "metadata": {},
   "source": [
    "### 6. 获取月份的天数"
   ]
  },
  {
   "cell_type": "code",
   "execution_count": 6,
   "metadata": {
    "collapsed": false
   },
   "outputs": [
    {
     "data": {
      "text/plain": [
       "31"
      ]
     },
     "execution_count": 6,
     "metadata": {},
     "output_type": "execute_result"
    }
   ],
   "source": [
    "import calendar\n",
    "calendar.monthrange(2013,8)[1]"
   ]
  },
  {
   "cell_type": "markdown",
   "metadata": {},
   "source": [
    "### 7. 各种日期格式\n",
    "%Y 带世纪部分的十制年份 Year number\n",
    "\n",
    "%m 十进制表示的月份 Month number\n",
    "\n",
    "%d 十进制表示的每月的第几天 Day of the month\n",
    "\n",
    "%H 24小时制的小时 Hour (24-hour clock)\n",
    "\n",
    "%M 十时制表示的分钟数 Minute number\n",
    "\n",
    "%S 十进制的秒数 Second number\n",
    "\n",
    "%f' 十进制的微秒，取前三位即为毫秒\n",
    "\n",
    "%a 星期几的简写 Weekday name, abbr.\n",
    "\n",
    "%A 星期几的全称 Weekday name, full\n",
    "\n",
    "%b 月分的简写 Month name, abbr.\n",
    "\n",
    "%B 月份的全称 Month name, full\n",
    "\n",
    "%c 标准的日期的时间串 Complete date and time representation\n",
    "\n",
    "%I 12小时制的小时 Hour (12-hour clock)\n",
    "\n",
    "%j 十进制表示的每年的第几天 Day of the year\n",
    "\n",
    "%U 第年的第几周，把星期日做为第一天（值从0到53）Week number (Sunday first weekday)\n",
    "\n",
    "%w 十进制表示的星期几（值从0到6，星期天为0）weekday number\n",
    "\n",
    "%W 每年的第几周，把星期一做为第一天（值从0到53） Week number (Monday first weekday)\n",
    "\n",
    "%x 标准的日期串 Complete date representation (e.g. 13/01/08)\n",
    "\n",
    "%X 标准的时间串 Complete time representation (e.g. 17:02:10)\n",
    "\n",
    "%y 不带世纪的十进制年份（值从0到99）Year number within century\n",
    "\n",
    "%z，%Z 时区名称，如果不能得到时区名称则返回空字符。Name of time zone\n",
    "\n",
    "%% 百分号"
   ]
  }
 ],
 "metadata": {
  "kernelspec": {
   "display_name": "Python 2",
   "language": "python",
   "name": "python2"
  },
  "language_info": {
   "codemirror_mode": {
    "name": "ipython",
    "version": 2
   },
   "file_extension": ".py",
   "mimetype": "text/x-python",
   "name": "python",
   "nbconvert_exporter": "python",
   "pygments_lexer": "ipython2",
   "version": "2.7.6"
  }
 },
 "nbformat": 4,
 "nbformat_minor": 0
}
