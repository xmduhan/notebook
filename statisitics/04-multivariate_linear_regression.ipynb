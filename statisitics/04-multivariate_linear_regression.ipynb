{
 "cells": [
  {
   "cell_type": "markdown",
   "metadata": {},
   "source": [
    "### 1. 构造拟合测试数据"
   ]
  },
  {
   "cell_type": "code",
   "execution_count": 6,
   "metadata": {
    "collapsed": false
   },
   "outputs": [],
   "source": [
    "from random import random\n",
    "from pandas import DataFrame, Series\n",
    "from statsmodels.api import OLS\n",
    "lr = lambda : [random() for i in range(100)]\n",
    "x = DataFrame({'x1': lr(), 'x2':lr(), 'x3':lr()})\n",
    "x['b'] = 1\n",
    "y = x.x1 + x.x2 * 2 + x.x3 * 3 + 4"
   ]
  },
  {
   "cell_type": "code",
   "execution_count": 7,
   "metadata": {
    "collapsed": false
   },
   "outputs": [
    {
     "name": "stdout",
     "output_type": "stream",
     "text": [
      "         x1        x2        x3  b\n",
      "0  0.986946  0.316883  0.588034  1\n",
      "1  0.506704  0.437319  0.388659  1\n",
      "2  0.373360  0.493845  0.706760  1\n",
      "3  0.286802  0.609239  0.306882  1\n",
      "4  0.340738  0.401139  0.865241  1\n"
     ]
    }
   ],
   "source": [
    "print x.head()"
   ]
  },
  {
   "cell_type": "code",
   "execution_count": 8,
   "metadata": {
    "collapsed": false
   },
   "outputs": [
    {
     "name": "stdout",
     "output_type": "stream",
     "text": [
      "0    7.384815\n",
      "1    6.547320\n",
      "2    7.481329\n",
      "3    6.425925\n",
      "4    7.738737\n",
      "dtype: float64\n"
     ]
    }
   ],
   "source": [
    "print y.head()"
   ]
  },
  {
   "cell_type": "markdown",
   "metadata": {},
   "source": [
    "### 2. 执行拟合\n",
    "注意:  拟合的结果和我们构造的数据一致"
   ]
  },
  {
   "cell_type": "code",
   "execution_count": 9,
   "metadata": {
    "collapsed": false
   },
   "outputs": [
    {
     "name": "stdout",
     "output_type": "stream",
     "text": [
      "                            OLS Regression Results                            \n",
      "==============================================================================\n",
      "Dep. Variable:                      y   R-squared:                       1.000\n",
      "Model:                            OLS   Adj. R-squared:                  1.000\n",
      "Method:                 Least Squares   F-statistic:                 3.818e+30\n",
      "Date:                Sun, 20 Dec 2015   Prob (F-statistic):               0.00\n",
      "Time:                        08:45:05   Log-Likelihood:                 3190.7\n",
      "No. Observations:                 100   AIC:                            -6373.\n",
      "Df Residuals:                      96   BIC:                            -6363.\n",
      "Df Model:                           3                                         \n",
      "Covariance Type:            nonrobust                                         \n",
      "==============================================================================\n",
      "                 coef    std err          t      P>|t|      [95.0% Conf. Int.]\n",
      "------------------------------------------------------------------------------\n",
      "x1             1.0000   1.13e-15   8.88e+14      0.000         1.000     1.000\n",
      "x2             2.0000   1.24e-15   1.61e+15      0.000         2.000     2.000\n",
      "x3             3.0000   1.16e-15   2.58e+15      0.000         3.000     3.000\n",
      "b              4.0000   9.65e-16   4.15e+15      0.000         4.000     4.000\n",
      "==============================================================================\n",
      "Omnibus:                        0.572   Durbin-Watson:                   0.251\n",
      "Prob(Omnibus):                  0.751   Jarque-Bera (JB):                0.693\n",
      "Skew:                          -0.161   Prob(JB):                        0.707\n",
      "Kurtosis:                       2.750   Cond. No.                         5.56\n",
      "==============================================================================\n",
      "\n",
      "Warnings:\n",
      "[1] Standard Errors assume that the covariance matrix of the errors is correctly specified.\n"
     ]
    }
   ],
   "source": [
    "model = OLS(y, x)\n",
    "result = model.fit()\n",
    "print result.summary()"
   ]
  },
  {
   "cell_type": "markdown",
   "metadata": {},
   "source": [
    "### 3. 读取系数值"
   ]
  },
  {
   "cell_type": "code",
   "execution_count": 10,
   "metadata": {
    "collapsed": false
   },
   "outputs": [
    {
     "name": "stderr",
     "output_type": "stream",
     "text": [
      "/usr/local/lib/python2.7/dist-packages/ipykernel/__main__.py:3: FutureWarning: icol(i) is deprecated. Please use .iloc[:,i]\n",
      "  app.launch_new_instance()\n"
     ]
    },
    {
     "data": {
      "text/plain": [
       "x1    1\n",
       "x2    2\n",
       "x3    3\n",
       "b     4\n",
       "dtype: float64"
      ]
     },
     "execution_count": 10,
     "metadata": {},
     "output_type": "execute_result"
    }
   ],
   "source": [
    "data = result.summary().tables[1].data\n",
    "rf = DataFrame(data[1:])[[0,1]]\n",
    "rf = Series(list(rf.icol(1).apply(lambda x: float(x))), list(rf.icol(0)))\n",
    "rf"
   ]
  }
 ],
 "metadata": {
  "kernelspec": {
   "display_name": "Python 2",
   "language": "python",
   "name": "python2"
  },
  "language_info": {
   "codemirror_mode": {
    "name": "ipython",
    "version": 2
   },
   "file_extension": ".py",
   "mimetype": "text/x-python",
   "name": "python",
   "nbconvert_exporter": "python",
   "pygments_lexer": "ipython2",
   "version": "2.7.6"
  }
 },
 "nbformat": 4,
 "nbformat_minor": 0
}
