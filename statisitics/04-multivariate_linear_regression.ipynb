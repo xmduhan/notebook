{
 "cells": [
  {
   "cell_type": "markdown",
   "metadata": {},
   "source": [
    "### 1. 构造拟合测试数据"
   ]
  },
  {
   "cell_type": "code",
   "execution_count": 12,
   "metadata": {
    "collapsed": false
   },
   "outputs": [],
   "source": [
    "from random import random\n",
    "from pandas import DataFrame\n",
    "from statsmodels.api import OLS\n",
    "lr = lambda : [random() for i in range(100)]\n",
    "x = DataFrame({'x1': lr(), 'x2':lr(), 'x3':lr()})\n",
    "x['b'] = 1\n",
    "y = x.x1 + x.x2 * 2 + x.x3 * 3 + 4"
   ]
  },
  {
   "cell_type": "code",
   "execution_count": 16,
   "metadata": {
    "collapsed": false
   },
   "outputs": [
    {
     "name": "stdout",
     "output_type": "stream",
     "text": [
      "         x1        x2        x3  b\n",
      "0  0.433681  0.946723  0.103422  1\n",
      "1  0.400423  0.527179  0.131674  1\n",
      "2  0.992441  0.900678  0.360140  1\n",
      "3  0.413757  0.099319  0.825181  1\n",
      "4  0.796491  0.862593  0.193554  1\n"
     ]
    }
   ],
   "source": [
    "print x.head()"
   ]
  },
  {
   "cell_type": "code",
   "execution_count": 17,
   "metadata": {
    "collapsed": false
   },
   "outputs": [
    {
     "name": "stdout",
     "output_type": "stream",
     "text": [
      "0    6.637392\n",
      "1    5.849802\n",
      "2    7.874218\n",
      "3    7.087938\n",
      "4    7.102337\n",
      "dtype: float64\n"
     ]
    }
   ],
   "source": [
    "print y.head()"
   ]
  },
  {
   "cell_type": "markdown",
   "metadata": {},
   "source": [
    "### 2. 执行拟合\n",
    "注意:  拟合的结果和我们构造的数据一致"
   ]
  },
  {
   "cell_type": "code",
   "execution_count": 20,
   "metadata": {
    "collapsed": false
   },
   "outputs": [
    {
     "name": "stdout",
     "output_type": "stream",
     "text": [
      "                            OLS Regression Results                            \n",
      "==============================================================================\n",
      "Dep. Variable:                      y   R-squared:                       1.000\n",
      "Model:                            OLS   Adj. R-squared:                  1.000\n",
      "Method:                 Least Squares   F-statistic:                 5.859e+30\n",
      "Date:                Wed, 09 Dec 2015   Prob (F-statistic):               0.00\n",
      "Time:                        15:17:32   Log-Likelihood:                 3224.9\n",
      "No. Observations:                 100   AIC:                            -6442.\n",
      "Df Residuals:                      96   BIC:                            -6431.\n",
      "Df Model:                           3                                         \n",
      "Covariance Type:            nonrobust                                         \n",
      "==============================================================================\n",
      "                 coef    std err          t      P>|t|      [95.0% Conf. Int.]\n",
      "------------------------------------------------------------------------------\n",
      "x1             1.0000   8.98e-16   1.11e+15      0.000         1.000     1.000\n",
      "x2             2.0000   8.28e-16   2.41e+15      0.000         2.000     2.000\n",
      "x3             3.0000   8.34e-16    3.6e+15      0.000         3.000     3.000\n",
      "b              4.0000   8.51e-16    4.7e+15      0.000         4.000     4.000\n",
      "==============================================================================\n",
      "Omnibus:                        7.675   Durbin-Watson:                   1.614\n",
      "Prob(Omnibus):                  0.022   Jarque-Bera (JB):                3.118\n",
      "Skew:                           0.045   Prob(JB):                        0.210\n",
      "Kurtosis:                       2.140   Cond. No.                         6.89\n",
      "==============================================================================\n",
      "\n",
      "Warnings:\n",
      "[1] Standard Errors assume that the covariance matrix of the errors is correctly specified.\n"
     ]
    }
   ],
   "source": [
    "model = OLS(y, x)\n",
    "result = model.fit()\n",
    "print result.summary()"
   ]
  },
  {
   "cell_type": "code",
   "execution_count": null,
   "metadata": {
    "collapsed": true
   },
   "outputs": [],
   "source": []
  }
 ],
 "metadata": {
  "kernelspec": {
   "display_name": "Python 2",
   "language": "python",
   "name": "python2"
  },
  "language_info": {
   "codemirror_mode": {
    "name": "ipython",
    "version": 2
   },
   "file_extension": ".py",
   "mimetype": "text/x-python",
   "name": "python",
   "nbconvert_exporter": "python",
   "pygments_lexer": "ipython2",
   "version": "2.7.6"
  }
 },
 "nbformat": 4,
 "nbformat_minor": 0
}
