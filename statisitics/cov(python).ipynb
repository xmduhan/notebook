{
 "cells": [
  {
   "cell_type": "markdown",
   "metadata": {},
   "source": [
    "# 1.  协方差的概念"
   ]
  },
  {
   "cell_type": "markdown",
   "metadata": {},
   "source": [
    "... ..."
   ]
  },
  {
   "cell_type": "markdown",
   "metadata": {},
   "source": [
    "## 2. 计算协方差\n",
    "设: x = （3+2+4+5+6）, y = 9+7+12+15+17）；计算Cov(x,y)"
   ]
  },
  {
   "cell_type": "markdown",
   "metadata": {},
   "source": [
    "首先计算x、y的期望值：<br/>\n",
    "ux=（3+2+4+5+6）/5=4 <br/>\n",
    "uy=（9+7+12+15+17）/5=12<br/>\n",
    "n = 5<br/>\n",
    "代入公式:<br/>\n",
    "Cov（X,Y） =  [(x1-ux) * (y1-uy) + (x2-ux) * (y2-uy) + ... + (xn-ux) * (yn-uy)] / n<br/>\n",
    "Cov（X,Y）=5.2<br/>"
   ]
  },
  {
   "cell_type": "markdown",
   "metadata": {},
   "source": [
    "## (1) 算法１: 根据公式计算"
   ]
  },
  {
   "cell_type": "code",
   "execution_count": 3,
   "metadata": {
    "collapsed": false
   },
   "outputs": [
    {
     "data": {
      "text/plain": [
       "5.2000000000000002"
      ]
     },
     "execution_count": 3,
     "metadata": {},
     "output_type": "execute_result"
    }
   ],
   "source": [
    "from pandas import Series\n",
    "import pandas as pd\n",
    "x = Series([3, 2, 4, 5, 6])\n",
    "y = Series([9, 7, 12, 15, 17])\n",
    "df = pd.concat([x-x.mean(), y-y.mean()], axis=1, keys=['x', 'y'])\n",
    "df.apply(lambda x: x.x * x.y, axis = 1).sum() / len(x)"
   ]
  },
  {
   "cell_type": "markdown",
   "metadata": {},
   "source": [
    "## (2) 算法2: 根据相关系数反推"
   ]
  },
  {
   "cell_type": "code",
   "execution_count": 5,
   "metadata": {
    "collapsed": false
   },
   "outputs": [
    {
     "data": {
      "text/plain": [
       "5.2000000000000002"
      ]
     },
     "execution_count": 5,
     "metadata": {},
     "output_type": "execute_result"
    }
   ],
   "source": [
    "from scipy.stats.stats import pearsonr  \n",
    "import numpy as np\n",
    "x = [3, 2, 4, 5, 6]\n",
    "y = [9, 7, 12, 15, 17]\n",
    "pearsonr(x,y)[0] * ( np.var(x) **.5  * np.var(y) **.5)"
   ]
  },
  {
   "cell_type": "markdown",
   "metadata": {},
   "source": [
    "## (3) 算法3: 使用pandas的标准方法"
   ]
  },
  {
   "cell_type": "code",
   "execution_count": 7,
   "metadata": {
    "collapsed": false
   },
   "outputs": [
    {
     "data": {
      "text/plain": [
       "6.5"
      ]
     },
     "execution_count": 7,
     "metadata": {},
     "output_type": "execute_result"
    }
   ],
   "source": [
    "from pandas import Series\n",
    "x = Series([3, 2, 4, 5, 6])\n",
    "y = Series([9, 7, 12, 15, 17])\n",
    "x.cov(y)"
   ]
  }
 ],
 "metadata": {
  "kernelspec": {
   "display_name": "IPython (Python 2)",
   "language": "python",
   "name": "python2"
  },
  "language_info": {
   "codemirror_mode": {
    "name": "ipython",
    "version": 2
   },
   "file_extension": ".py",
   "mimetype": "text/x-python",
   "name": "python",
   "nbconvert_exporter": "python",
   "pygments_lexer": "ipython2",
   "version": "2.7.6"
  }
 },
 "nbformat": 4,
 "nbformat_minor": 0
}
