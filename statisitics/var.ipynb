{
 "cells": [
  {
   "cell_type": "markdown",
   "metadata": {},
   "source": [
    "# 1. 方差概念"
   ]
  },
  {
   "cell_type": "markdown",
   "metadata": {},
   "source": [
    "## (1) 总体方差"
   ]
  },
  {
   "cell_type": "markdown",
   "metadata": {},
   "source": [
    "总体方差用σ^2表示, 其计算公式为:<br/>\n",
    "x = [x1, x2, ... xn]<br/>\n",
    "ux = mean(x)<br/>\n",
    "σ^2 = [(x1- ux)^2 + (x1- ux)^2 + ... + (xn - ux)^2]/ n<br/>"
   ]
  },
  {
   "cell_type": "markdown",
   "metadata": {},
   "source": [
    "## (2) 样本方差"
   ]
  },
  {
   "cell_type": "markdown",
   "metadata": {},
   "source": [
    "总体方差用σ^2表示, 其计算公式为:<br/>\n",
    "x = [x1, x2, ... xn]<br/>\n",
    "ux = mean(x)<br/>\n",
    "s^2 = [(x1- ux)^2 + (x1- ux)^2 + ... + (xn - ux)^2] / (n - 1)<br/>"
   ]
  },
  {
   "cell_type": "markdown",
   "metadata": {},
   "source": [
    "## 2. 方差的计算"
   ]
  },
  {
   "cell_type": "markdown",
   "metadata": {},
   "source": [
    "## (1) 计算总体方差"
   ]
  },
  {
   "cell_type": "code",
   "execution_count": 43,
   "metadata": {
    "collapsed": false
   },
   "outputs": [
    {
     "data": {
      "text/plain": [
       "8.25"
      ]
     },
     "execution_count": 43,
     "metadata": {},
     "output_type": "execute_result"
    }
   ],
   "source": [
    "# 使用公式计算\n",
    "from pandas import Series\n",
    "from __future__ import division\n",
    "x = Series(range(10))\n",
    "ux = x.mean()\n",
    "(((x-ux)*(x-ux)).sum()) / len(x)"
   ]
  },
  {
   "cell_type": "code",
   "execution_count": 51,
   "metadata": {
    "collapsed": false
   },
   "outputs": [
    {
     "data": {
      "text/plain": [
       "8.25"
      ]
     },
     "execution_count": 51,
     "metadata": {},
     "output_type": "execute_result"
    }
   ],
   "source": [
    "# 使用var方法\n",
    "from pandas import Series\n",
    "x = Series(range(10))\n",
    "x.var(ddof=0)"
   ]
  },
  {
   "cell_type": "markdown",
   "metadata": {},
   "source": [
    "## (2) 计算样本方差"
   ]
  },
  {
   "cell_type": "code",
   "execution_count": 42,
   "metadata": {
    "collapsed": false
   },
   "outputs": [
    {
     "data": {
      "text/plain": [
       "9.1666666666666661"
      ]
     },
     "execution_count": 42,
     "metadata": {},
     "output_type": "execute_result"
    }
   ],
   "source": [
    "# 使用公式计算\n",
    "from pandas import Series\n",
    "from __future__ import division\n",
    "x = Series(range(10))\n",
    "ux = x.mean()\n",
    "(((x-ux)*(x-ux)).sum())/ (len(x) - 1)"
   ]
  },
  {
   "cell_type": "code",
   "execution_count": 44,
   "metadata": {
    "collapsed": false
   },
   "outputs": [
    {
     "data": {
      "text/plain": [
       "9.1666666666666661"
      ]
     },
     "execution_count": 44,
     "metadata": {},
     "output_type": "execute_result"
    }
   ],
   "source": [
    "# 使用var方法\n",
    "from pandas import Series\n",
    "x = Series(range(10))\n",
    "x.var()"
   ]
  }
 ],
 "metadata": {
  "kernelspec": {
   "display_name": "IPython (Python 2)",
   "language": "python",
   "name": "python2"
  },
  "language_info": {
   "codemirror_mode": {
    "name": "ipython",
    "version": 2
   },
   "file_extension": ".py",
   "mimetype": "text/x-python",
   "name": "python",
   "nbconvert_exporter": "python",
   "pygments_lexer": "ipython2",
   "version": "2.7.6"
  }
 },
 "nbformat": 4,
 "nbformat_minor": 0
}
