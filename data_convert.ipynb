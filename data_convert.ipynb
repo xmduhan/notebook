{
 "cells": [
  {
   "cell_type": "markdown",
   "metadata": {},
   "source": [
    "# 0.导入相关模块并定义全局变量"
   ]
  },
  {
   "cell_type": "code",
   "execution_count": 17,
   "metadata": {
    "collapsed": true
   },
   "outputs": [],
   "source": [
    "from os import listdir\n",
    "from os.path import isfile,join\n",
    "import re \n",
    "import pandas as pd\n",
    "from pandas import DataFrame\n",
    "path = r'/home/duhan/data/商品期货1分钟201509csv'\n",
    "filenamePattern = r'(?P<code>\\D+)(?P<num>\\d+).csv' \n",
    "header=['date', 'time', 'open', 'high', 'low', 'close', 'lot', 'volume']"
   ]
  },
  {
   "cell_type": "markdown",
   "metadata": {},
   "source": [
    "# 1.读取目录中的所有文件名列表"
   ]
  },
  {
   "cell_type": "code",
   "execution_count": 3,
   "metadata": {
    "collapsed": false
   },
   "outputs": [
    {
     "data": {
      "text/html": [
       "<div>\n",
       "<table border=\"1\" class=\"dataframe\">\n",
       "  <thead>\n",
       "    <tr style=\"text-align: right;\">\n",
       "      <th></th>\n",
       "      <th>name</th>\n",
       "      <th>code</th>\n",
       "      <th>num</th>\n",
       "    </tr>\n",
       "  </thead>\n",
       "  <tbody>\n",
       "    <tr>\n",
       "      <th>0</th>\n",
       "      <td>ZZOI13.csv</td>\n",
       "      <td>ZZOI</td>\n",
       "      <td>13</td>\n",
       "    </tr>\n",
       "    <tr>\n",
       "      <th>1</th>\n",
       "      <td>DLJM12.csv</td>\n",
       "      <td>DLJM</td>\n",
       "      <td>12</td>\n",
       "    </tr>\n",
       "    <tr>\n",
       "      <th>2</th>\n",
       "      <td>DLV13.csv</td>\n",
       "      <td>DLV</td>\n",
       "      <td>13</td>\n",
       "    </tr>\n",
       "    <tr>\n",
       "      <th>3</th>\n",
       "      <td>SQAG01.csv</td>\n",
       "      <td>SQAG</td>\n",
       "      <td>01</td>\n",
       "    </tr>\n",
       "    <tr>\n",
       "      <th>4</th>\n",
       "      <td>DLCS05.csv</td>\n",
       "      <td>DLCS</td>\n",
       "      <td>05</td>\n",
       "    </tr>\n",
       "  </tbody>\n",
       "</table>\n",
       "</div>"
      ],
      "text/plain": [
       "         name  code num\n",
       "0  ZZOI13.csv  ZZOI  13\n",
       "1  DLJM12.csv  DLJM  12\n",
       "2   DLV13.csv   DLV  13\n",
       "3  SQAG01.csv  SQAG  01\n",
       "4  DLCS05.csv  DLCS  05"
      ]
     },
     "execution_count": 3,
     "metadata": {},
     "output_type": "execute_result"
    }
   ],
   "source": [
    "filenameList = [ filename for filename in listdir(path) if isfile(join(path,filename))  and re.match(filenamePattern, filename)]\n",
    "filenameDataset = DataFrame(filenameList, columns=['name'])\n",
    "filenameDataset['code'] = filenameDataset['name'].apply(lambda x: re.match(filenamePattern, x).group('code'))\n",
    "filenameDataset['num'] = filenameDataset['name'].apply(lambda x: re.match(filenamePattern, x).group('num'))\n",
    "filenameDataset.head()"
   ]
  },
  {
   "cell_type": "code",
   "execution_count": 42,
   "metadata": {
    "collapsed": false
   },
   "outputs": [
    {
     "data": {
      "text/plain": [
       "['13']"
      ]
     },
     "execution_count": 42,
     "metadata": {},
     "output_type": "execute_result"
    }
   ],
   "source": [
    "re.findall(r'\\d+' , test) "
   ]
  },
  {
   "cell_type": "markdown",
   "metadata": {},
   "source": [
    "# 2. 获取所有品种列表"
   ]
  },
  {
   "cell_type": "code",
   "execution_count": 8,
   "metadata": {
    "collapsed": false
   },
   "outputs": [
    {
     "name": "stdout",
     "output_type": "stream",
     "text": [
      "['DLAX', 'DLAY', 'DLB', 'DLBB', 'DLC', 'DLCS', 'DLFB', 'DLI', 'DLJ', 'DLJD', 'DLJM', 'DLL', 'DLM', 'DLP', 'DLPP', 'DLV', 'DLY', 'SQAG', 'SQAL', 'SQAU', 'SQBUX', 'SQBUY', 'SQCU', 'SQFU', 'SQHC', 'SQNI', 'SQPB', 'SQRB', 'SQRU', 'SQSN', 'SQWR', 'SQZN', 'ZZCF', 'ZZFG', 'ZZJR', 'ZZLR', 'ZZMA', 'ZZME', 'ZZOI', 'ZZPM', 'ZZRI', 'ZZRM', 'ZZRS', 'ZZSF', 'ZZSM', 'ZZSRX', 'ZZSRY', 'ZZTA', 'ZZTC', 'ZZWH']\n"
     ]
    }
   ],
   "source": [
    "instrumentList  = list(filenameDataset.groupby('code').count().index)\n",
    "print instrumentList"
   ]
  },
  {
   "cell_type": "markdown",
   "metadata": {},
   "source": [
    "# 3.定义处理一种品种数据的函数"
   ]
  },
  {
   "cell_type": "code",
   "execution_count": 70,
   "metadata": {
    "collapsed": false
   },
   "outputs": [
    {
     "data": {
      "text/html": [
       "<div>\n",
       "<table border=\"1\" class=\"dataframe\">\n",
       "  <thead>\n",
       "    <tr style=\"text-align: right;\">\n",
       "      <th></th>\n",
       "      <th>name</th>\n",
       "      <th>code</th>\n",
       "      <th>num</th>\n",
       "    </tr>\n",
       "  </thead>\n",
       "  <tbody>\n",
       "    <tr>\n",
       "      <th>119</th>\n",
       "      <td>DLAX07.csv</td>\n",
       "      <td>DLAX</td>\n",
       "      <td>07</td>\n",
       "    </tr>\n",
       "    <tr>\n",
       "      <th>124</th>\n",
       "      <td>DLAX01.csv</td>\n",
       "      <td>DLAX</td>\n",
       "      <td>01</td>\n",
       "    </tr>\n",
       "    <tr>\n",
       "      <th>136</th>\n",
       "      <td>DLAX11.csv</td>\n",
       "      <td>DLAX</td>\n",
       "      <td>11</td>\n",
       "    </tr>\n",
       "    <tr>\n",
       "      <th>148</th>\n",
       "      <td>DLAX09.csv</td>\n",
       "      <td>DLAX</td>\n",
       "      <td>09</td>\n",
       "    </tr>\n",
       "    <tr>\n",
       "      <th>332</th>\n",
       "      <td>DLAX05.csv</td>\n",
       "      <td>DLAX</td>\n",
       "      <td>05</td>\n",
       "    </tr>\n",
       "    <tr>\n",
       "      <th>372</th>\n",
       "      <td>DLAX13.csv</td>\n",
       "      <td>DLAX</td>\n",
       "      <td>13</td>\n",
       "    </tr>\n",
       "    <tr>\n",
       "      <th>374</th>\n",
       "      <td>DLAX03.csv</td>\n",
       "      <td>DLAX</td>\n",
       "      <td>03</td>\n",
       "    </tr>\n",
       "  </tbody>\n",
       "</table>\n",
       "</div>"
      ],
      "text/plain": [
       "           name  code num\n",
       "119  DLAX07.csv  DLAX  07\n",
       "124  DLAX01.csv  DLAX  01\n",
       "136  DLAX11.csv  DLAX  11\n",
       "148  DLAX09.csv  DLAX  09\n",
       "332  DLAX05.csv  DLAX  05\n",
       "372  DLAX13.csv  DLAX  13\n",
       "374  DLAX03.csv  DLAX  03"
      ]
     },
     "execution_count": 70,
     "metadata": {},
     "output_type": "execute_result"
    }
   ],
   "source": [
    "def processInstrument(code):\n",
    "    \"\"\"\n",
    "    给定顶一个品种代码，做定义处理\n",
    "    \"\"\"\n",
    "    c1 = filenameDataset['code'] == code\n",
    "    return filenameDataset[ c1 ]\n",
    "ocessInstrument('DLAX')"
   ]
  },
  {
   "cell_type": "code",
   "execution_count": 75,
   "metadata": {
    "collapsed": false
   },
   "outputs": [],
   "source": [
    "def loadDataFile(filename):\n",
    "    \"\"\"\n",
    "    根据文件名导入数据\n",
    "    \"\"\"\n",
    "    num = re.match(filenamePattern, filename).group('num')\n",
    "    df =  pd.read_csv( join(path, filename), names=header)\n",
    "    df.index = df.apply(lambda x: '%s %s' % (x['date'], x['time']) , axis =1)\n",
    "    df.columns = [ [num]*8, df.columns ]\n",
    "    return df"
   ]
  },
  {
   "cell_type": "code",
   "execution_count": 71,
   "metadata": {
    "collapsed": false
   },
   "outputs": [
    {
     "data": {
      "text/html": [
       "<div>\n",
       "<table border=\"1\" class=\"dataframe\">\n",
       "  <thead>\n",
       "    <tr>\n",
       "      <th></th>\n",
       "      <th colspan=\"8\" halign=\"left\">01</th>\n",
       "    </tr>\n",
       "    <tr>\n",
       "      <th></th>\n",
       "      <th>date</th>\n",
       "      <th>time</th>\n",
       "      <th>open</th>\n",
       "      <th>high</th>\n",
       "      <th>low</th>\n",
       "      <th>close</th>\n",
       "      <th>lot</th>\n",
       "      <th>volume</th>\n",
       "    </tr>\n",
       "  </thead>\n",
       "  <tbody>\n",
       "    <tr>\n",
       "      <th>2015-09-21 22:34</th>\n",
       "      <td>2015-09-21</td>\n",
       "      <td>22:34</td>\n",
       "      <td>4204</td>\n",
       "      <td>4204</td>\n",
       "      <td>4204</td>\n",
       "      <td>4204</td>\n",
       "      <td>8</td>\n",
       "      <td>6</td>\n",
       "    </tr>\n",
       "    <tr>\n",
       "      <th>2015-09-29 09:01</th>\n",
       "      <td>2015-09-29</td>\n",
       "      <td>09:01</td>\n",
       "      <td>4012</td>\n",
       "      <td>4191</td>\n",
       "      <td>4012</td>\n",
       "      <td>4191</td>\n",
       "      <td>4</td>\n",
       "      <td>8</td>\n",
       "    </tr>\n",
       "    <tr>\n",
       "      <th>2015-09-29 10:06</th>\n",
       "      <td>2015-09-29</td>\n",
       "      <td>10:06</td>\n",
       "      <td>4158</td>\n",
       "      <td>4158</td>\n",
       "      <td>4158</td>\n",
       "      <td>4158</td>\n",
       "      <td>2</td>\n",
       "      <td>6</td>\n",
       "    </tr>\n",
       "  </tbody>\n",
       "</table>\n",
       "</div>"
      ],
      "text/plain": [
       "                          01                                          \n",
       "                        date   time  open  high   low close lot volume\n",
       "2015-09-21 22:34  2015-09-21  22:34  4204  4204  4204  4204   8      6\n",
       "2015-09-29 09:01  2015-09-29  09:01  4012  4191  4012  4191   4      8\n",
       "2015-09-29 10:06  2015-09-29  10:06  4158  4158  4158  4158   2      6"
      ]
     },
     "execution_count": 71,
     "metadata": {},
     "output_type": "execute_result"
    }
   ],
   "source": [
    "    df =  pd.read_csv( join(path, 'DLAX07.csv'), names=header)\n",
    "    df.index = df.apply(lambda x: '%s %s' % (x['date'],x['time']) , axis =1 )\n",
    "    df.columns = [ ['01']*8, df.columns ]\n",
    "    df \n",
    "    \n",
    "    \n",
    "    "
   ]
  },
  {
   "cell_type": "code",
   "execution_count": 50,
   "metadata": {
    "collapsed": false
   },
   "outputs": [
    {
     "name": "stdout",
     "output_type": "stream",
     "text": [
      "Help on method apply in module pandas.core.frame:\n",
      "\n",
      "apply(self, func, axis=0, broadcast=False, raw=False, reduce=None, args=(), **kwds) method of pandas.core.frame.DataFrame instance\n",
      "    Applies function along input axis of DataFrame.\n",
      "    \n",
      "    Objects passed to functions are Series objects having index\n",
      "    either the DataFrame's index (axis=0) or the columns (axis=1).\n",
      "    Return type depends on whether passed function aggregates, or the\n",
      "    reduce argument if the DataFrame is empty.\n",
      "    \n",
      "    Parameters\n",
      "    ----------\n",
      "    func : function\n",
      "        Function to apply to each column/row\n",
      "    axis : {0 or 'index', 1 or 'columns'}, default 0\n",
      "        * 0 or 'index': apply function to each column\n",
      "        * 1 or 'columns': apply function to each row\n",
      "    broadcast : boolean, default False\n",
      "        For aggregation functions, return object of same size with values\n",
      "        propagated\n",
      "    reduce : boolean or None, default None\n",
      "        Try to apply reduction procedures. If the DataFrame is empty,\n",
      "        apply will use reduce to determine whether the result should be a\n",
      "        Series or a DataFrame. If reduce is None (the default), apply's\n",
      "        return value will be guessed by calling func an empty Series (note:\n",
      "        while guessing, exceptions raised by func will be ignored). If\n",
      "        reduce is True a Series will always be returned, and if False a\n",
      "        DataFrame will always be returned.\n",
      "    raw : boolean, default False\n",
      "        If False, convert each row or column into a Series. If raw=True the\n",
      "        passed function will receive ndarray objects instead. If you are\n",
      "        just applying a NumPy reduction function this will achieve much\n",
      "        better performance\n",
      "    args : tuple\n",
      "        Positional arguments to pass to function in addition to the\n",
      "        array/series\n",
      "    Additional keyword arguments will be passed as keywords to the function\n",
      "    \n",
      "    Notes\n",
      "    -----\n",
      "    In the current implementation apply calls func twice on the\n",
      "    first column/row to decide whether it can take a fast or slow\n",
      "    code path. This can lead to unexpected behavior if func has\n",
      "    side-effects, as they will take effect twice for the first\n",
      "    column/row.\n",
      "    \n",
      "    Examples\n",
      "    --------\n",
      "    >>> df.apply(numpy.sqrt) # returns DataFrame\n",
      "    >>> df.apply(numpy.sum, axis=0) # equiv to df.sum(0)\n",
      "    >>> df.apply(numpy.sum, axis=1) # equiv to df.sum(1)\n",
      "    \n",
      "    See also\n",
      "    --------\n",
      "    DataFrame.applymap: For elementwise operations\n",
      "    \n",
      "    Returns\n",
      "    -------\n",
      "    applied : Series or DataFrame\n",
      "\n"
     ]
    }
   ],
   "source": [
    "help(df.apply)\n"
   ]
  }
 ],
 "metadata": {
  "kernelspec": {
   "display_name": "IPython (Python 2)",
   "language": "python",
   "name": "python2"
  },
  "language_info": {
   "codemirror_mode": {
    "name": "ipython",
    "version": 2
   },
   "file_extension": ".py",
   "mimetype": "text/x-python",
   "name": "python",
   "nbconvert_exporter": "python",
   "pygments_lexer": "ipython2",
   "version": "2.7.6"
  }
 },
 "nbformat": 4,
 "nbformat_minor": 0
}
