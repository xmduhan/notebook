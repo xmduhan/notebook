{
 "cells": [
  {
   "cell_type": "code",
   "execution_count": 23,
   "metadata": {
    "collapsed": false
   },
   "outputs": [
    {
     "name": "stdout",
     "output_type": "stream",
     "text": [
      "2.0 0.01\n",
      "R-squared= 1.0\n",
      "p-value = 1.4044551538e-24\n"
     ]
    }
   ],
   "source": [
    "from scipy import stats\n",
    "from pandas import Series\n",
    "mkt_ret = Series([.01, .02, .01, .03, .05])\n",
    "stock_ret = mkt_ret * 2 + .01\n",
    "beta, alpha, r_value, p_value, std_err = stats.linregress(mkt_ret, stock_ret)\n",
    "print beta, alpha\n",
    "print \"R-squared=\", r_value**2\n",
    "print \"p-value =\", p_value"
   ]
  },
  {
   "cell_type": "code",
   "execution_count": 6,
   "metadata": {
    "collapsed": false
   },
   "outputs": [
    {
     "data": {
      "text/plain": [
       "(0    0.01\n",
       " 1    0.02\n",
       " 2    0.01\n",
       " 3    0.03\n",
       " 4    0.05\n",
       " dtype: float64, 0    0.12\n",
       " 1    0.14\n",
       " 2    0.12\n",
       " 3    0.16\n",
       " 4    0.20\n",
       " dtype: float64)"
      ]
     },
     "execution_count": 6,
     "metadata": {},
     "output_type": "execute_result"
    }
   ],
   "source": [
    "mkt_ret, stock_ret"
   ]
  },
  {
   "cell_type": "code",
   "execution_count": 18,
   "metadata": {
    "collapsed": false
   },
   "outputs": [
    {
     "data": {
      "text/plain": [
       "(1.9999999999999996,\n",
       " 0.010000000000000009,\n",
       " 0.99999999999999989,\n",
       " 1.4044551538035188e-24,\n",
       " 1.7206378853011898e-08)"
      ]
     },
     "execution_count": 18,
     "metadata": {},
     "output_type": "execute_result"
    }
   ],
   "source": [
    "x = Series([.01, .02, .01, .03, .05])\n",
    "y = x * 2 + .01\n",
    "stats.linregress(x, y)"
   ]
  },
  {
   "cell_type": "code",
   "execution_count": 15,
   "metadata": {
    "collapsed": false
   },
   "outputs": [
    {
     "data": {
      "text/plain": [
       "(2.0, 3.0)"
      ]
     },
     "execution_count": 15,
     "metadata": {},
     "output_type": "execute_result"
    }
   ],
   "source": [
    "x = Series(range(10))\n",
    "y = x * 2 + 3\n",
    "beta, alpha, r_value, p_value, std_err = stats.linregress(x, y)\n",
    "beta, alpha"
   ]
  }
 ],
 "metadata": {
  "kernelspec": {
   "display_name": "Python 2",
   "language": "python",
   "name": "python2"
  },
  "language_info": {
   "codemirror_mode": {
    "name": "ipython",
    "version": 2
   },
   "file_extension": ".py",
   "mimetype": "text/x-python",
   "name": "python",
   "nbconvert_exporter": "python",
   "pygments_lexer": "ipython2",
   "version": "2.7.6"
  }
 },
 "nbformat": 4,
 "nbformat_minor": 0
}
