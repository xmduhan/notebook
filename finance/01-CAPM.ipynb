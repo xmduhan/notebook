{
 "cells": [
  {
   "cell_type": "markdown",
   "metadata": {},
   "source": [
    "# (一) 基本概念"
   ]
  },
  {
   "cell_type": "markdown",
   "metadata": {},
   "source": [
    "## 1.β的计算"
   ]
  },
  {
   "cell_type": "markdown",
   "metadata": {},
   "source": [
    "β = cov(ri, rm) / var(rm)"
   ]
  },
  {
   "cell_type": "markdown",
   "metadata": {},
   "source": [
    "ri 股票的收益率<br/>\n",
    "rm 市场的收益率<br/>\n",
    "cov 协方差<br/>\n",
    "var 方差<br/>"
   ]
  },
  {
   "cell_type": "markdown",
   "metadata": {
    "collapsed": true
   },
   "source": [
    "## 2. α的计算"
   ]
  },
  {
   "cell_type": "markdown",
   "metadata": {},
   "source": [
    "### (1) 例题1. 市场期望收益10%, 短期国库劵的利率为3%, 某股票的β值为1.1, 投资这对这只股票的期望收益为12%, 求其α值."
   ]
  },
  {
   "cell_type": "markdown",
   "metadata": {},
   "source": [
    "正常期望收益 = 3 + 1.1 * (10 - 3) = 10.7 (%)"
   ]
  },
  {
   "cell_type": "markdown",
   "metadata": {},
   "source": [
    "α = 12-10.7= 1.3"
   ]
  },
  {
   "cell_type": "markdown",
   "metadata": {},
   "source": [
    "α是“实际期望收益”和“正常期望收益”的差值<br/>\n",
    "其问题就在于: 我们哪来的“正常期望收益”？(特别时在股票市场)"
   ]
  },
  {
   "cell_type": "markdown",
   "metadata": {},
   "source": [
    "### (2) 如果一个股票的Beta值是2.0，无风险回报率是3%，市场回报率(Market Return)是7%，那么市场溢价(Equity Market Premium) 就是4%（7%-3%），股票风险溢价(Risk Premium)为8% （2X4%，用Beta值乘市场溢价），那么股票的预期回报率则为11%（8%+3%， 即股票的风险溢价加上无风险回报率）。"
   ]
  },
  {
   "cell_type": "markdown",
   "metadata": {},
   "source": [
    " 正常期望收益 = 3 + (7-3) * 2 = 11 (%)"
   ]
  },
  {
   "cell_type": "markdown",
   "metadata": {},
   "source": [
    "#  (二) python金融分析(第六章)\n",
    "PP.Python.for.Finance.2014.4.pdf(360云盘: 所有文件\\01-文档\\12-程序化交易\\Python for Finance)"
   ]
  },
  {
   "cell_type": "markdown",
   "metadata": {},
   "source": [
    "α = 实际期望收益 - 正常期望收益 = Ri - [Rf +  β(Rmkt - Rf)]<br/>\n",
    "Ri - Rf = α + β(Rmkt - Rf)<br/>\n",
    "y = α + βx"
   ]
  },
  {
   "cell_type": "markdown",
   "metadata": {},
   "source": [
    "Ri 正常期望收益<br/>\n",
    "Rf 无风险收益<br/>\n",
    "Rmkt 市场期望收益<br/>\n",
    "y 个股风险溢价<br/>\n",
    "x 市场风险溢价"
   ]
  },
  {
   "cell_type": "markdown",
   "metadata": {},
   "source": [
    "由于对历史股票数据y和x都时已经量, 所以可以通过线性拟合来计算α和β值，具体代码如下:"
   ]
  },
  {
   "cell_type": "code",
   "execution_count": 3,
   "metadata": {
    "collapsed": false
   },
   "outputs": [
    {
     "name": "stdout",
     "output_type": "stream",
     "text": [
      "0.507743187877 -0.00848190035246\n",
      "R-squared= 0.147885662966\n",
      "p-value = 0.522715523909\n"
     ]
    }
   ],
   "source": [
    "from scipy import stats\n",
    "stock_ret = [0.065, 0.0265, -0.0593, -0.001,0.0346]\n",
    "mkt_ret = [0.055, -0.09, -0.041,0.045,0.022]\n",
    "beta, alpha, r_value, p_value, std_err = stats.linregress(stock_ret,mkt_ret)\n",
    "print beta, alpha\n",
    "print \"R-squared=\", r_value**2\n",
    "print \"p-value =\", p_value"
   ]
  },
  {
   "cell_type": "code",
   "execution_count": 48,
   "metadata": {
    "collapsed": false
   },
   "outputs": [
    {
     "data": {
      "text/plain": [
       "0.23300860198185477"
      ]
     },
     "execution_count": 48,
     "metadata": {},
     "output_type": "execute_result"
    }
   ],
   "source": [
    "from pandas import Series\n",
    "import pandas as pd\n",
    "x = Series(stock_ret)\n",
    "y = Series(mkt_ret)\n",
    "df = pd.concat([x-x.mean(), y-y.mean()], axis=1, keys=['x', 'y'])\n",
    "cov = df.apply(lambda x: x.x * x.y, axis = 1).sum() / len(x)\n",
    "var = y.\n",
    "cov/var"
   ]
  },
  {
   "cell_type": "code",
   "execution_count": 70,
   "metadata": {
    "collapsed": false
   },
   "outputs": [
    {
     "data": {
      "text/plain": [
       "0.29126075247731847"
      ]
     },
     "execution_count": 70,
     "metadata": {},
     "output_type": "execute_result"
    }
   ],
   "source": [
    "x = Series(stock_ret)\n",
    "y = Series(mkt_ret)\n",
    "x.cov(y) / y.var()"
   ]
  }
 ],
 "metadata": {
  "kernelspec": {
   "display_name": "IPython (Python 2)",
   "language": "python",
   "name": "python2"
  },
  "language_info": {
   "codemirror_mode": {
    "name": "ipython",
    "version": 2
   },
   "file_extension": ".py",
   "mimetype": "text/x-python",
   "name": "python",
   "nbconvert_exporter": "python",
   "pygments_lexer": "ipython2",
   "version": "2.7.6"
  }
 },
 "nbformat": 4,
 "nbformat_minor": 0
}
