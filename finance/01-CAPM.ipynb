{
 "cells": [
  {
   "cell_type": "code",
   "execution_count": null,
   "metadata": {
    "collapsed": true
   },
   "outputs": [],
   "source": []
  },
  {
   "cell_type": "markdown",
   "metadata": {},
   "source": [
    "## 1. 例题1. 市场期望收益10%, 短期国库劵的利率为3%, 某股票的β值为1.1, 投资这对这只股票的期望首页为12%, 求其α值."
   ]
  },
  {
   "cell_type": "markdown",
   "metadata": {},
   "source": [
    "期望收益 = 3 + 1.1 * (10 - 3) = 10.7 (%)"
   ]
  },
  {
   "cell_type": "markdown",
   "metadata": {},
   "source": [
    "α = 12-10.7= 1.3"
   ]
  },
  {
   "cell_type": "markdown",
   "metadata": {},
   "source": [
    "## 2. 如果一个股票的Beta值是2.0，无风险回报率是3%，市场回报率(Market Return)是7%，那么市场溢价(Equity Market Premium) 就是4%（7%-3%），股票风险溢价(Risk Premium)为8% （2X4%，用Beta值乘市场溢价），那么股票的预期回报率则为11%（8%+3%， 即股票的风险溢价加上无风险回报率）。"
   ]
  },
  {
   "cell_type": "markdown",
   "metadata": {},
   "source": [
    "期望收益 = 3 + (7-3) * 2 = 11 (%)"
   ]
  }
 ],
 "metadata": {
  "kernelspec": {
   "display_name": "IPython (Python 2)",
   "language": "python",
   "name": "python2"
  },
  "language_info": {
   "codemirror_mode": {
    "name": "ipython",
    "version": 2
   },
   "file_extension": ".py",
   "mimetype": "text/x-python",
   "name": "python",
   "nbconvert_exporter": "python",
   "pygments_lexer": "ipython2",
   "version": "2.7.6"
  }
 },
 "nbformat": 4,
 "nbformat_minor": 0
}
