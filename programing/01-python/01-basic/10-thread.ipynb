{
 "cells": [
  {
   "cell_type": "markdown",
   "metadata": {},
   "source": [
    "# 1. 工作线程的清理\n",
    "如果对象中启动了一个后台工作线程，当线程执行终止前，即使对象变量的作用域已不存在，也是无法调用__del__()(因为线程可能应用到的工作函数是当前对象的一个方法)，而往往我们希望对象过了作用域后可以自动清理，包括终止工作线程，这样就陷入了一种死循环。解决方法是生成一个代理对象，其和线程没有捆绑关系，一旦其变量过了作用域，就会马上调用用其__del__()方法，然后我们在__del__()函数中停止工作线程，这样所有对象都能够正常清理了。"
   ]
  },
  {
   "cell_type": "code",
   "execution_count": 3,
   "metadata": {
    "collapsed": false
   },
   "outputs": [
    {
     "name": "stdout",
     "output_type": "stream",
     "text": [
      "B.__init__() is call\n",
      "A.__init__() is called\n",
      "a1\n",
      "a2\n",
      "A.a1() is called 123\n",
      "A.a2() is called\n",
      "B.__del__() is called\n",
      "A.__del__() is called\n"
     ]
    }
   ],
   "source": [
    "import inspect\n",
    "\n",
    "class A(object):\n",
    "    def __init__(self):\n",
    "        print 'A.__init__() is called'\n",
    "    def a1(self, x):\n",
    "        print 'A.a1() is called', x\n",
    "    def a2(self):\n",
    "        print 'A.a2() is called'\n",
    "    def __del__(self):\n",
    "        print 'A.__del__() is called'\n",
    "\n",
    "class B(object):\n",
    "    def __init__(self):\n",
    "        print 'B.__init__() is call'\n",
    "        self.__a = A()\n",
    "        for name, method in inspect.getmembers(self.__a, predicate=inspect.ismethod):\n",
    "            if name[0] <> '_':\n",
    "                setattr(self, name, method)\n",
    "                print name\n",
    "    def __del__(self):\n",
    "        print 'B.__del__() is called'\n",
    "        self.__a = None\n",
    "\n",
    "b = B()\n",
    "b.a1('123')\n",
    "b.a2()\n",
    "b = None"
   ]
  }
 ],
 "metadata": {
  "kernelspec": {
   "display_name": "Python 2",
   "language": "python",
   "name": "python2"
  },
  "language_info": {
   "codemirror_mode": {
    "name": "ipython",
    "version": 2
   },
   "file_extension": ".py",
   "mimetype": "text/x-python",
   "name": "python",
   "nbconvert_exporter": "python",
   "pygments_lexer": "ipython2",
   "version": "2.7.6"
  }
 },
 "nbformat": 4,
 "nbformat_minor": 0
}
