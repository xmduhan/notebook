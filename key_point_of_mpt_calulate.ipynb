{
 "cells": [
  {
   "cell_type": "markdown",
   "metadata": {},
   "source": [
    "# 0. 导入相关库并设置全局变量"
   ]
  },
  {
   "cell_type": "code",
   "execution_count": 156,
   "metadata": {
    "collapsed": false
   },
   "outputs": [],
   "source": [
    "from __future__ import division\n",
    "import tushare as ts\n",
    "import pandas as pd\n",
    "import numpy as np\n",
    "from pandas import Series, DataFrame\n",
    "from copy import copy\n",
    "from datetime import datetime \n",
    "from pandas.io.excel import ExcelWriter\n",
    "from scipy.stats.stats import pearsonr  \n",
    "\n",
    "stockCodeList = ['600815', '600848', '002337']\n",
    "indexCodeList = ['sh', 'sz']"
   ]
  },
  {
   "cell_type": "markdown",
   "metadata": {},
   "source": [
    "# 1. 导入所有的指数数据和股票数据"
   ]
  },
  {
   "cell_type": "code",
   "execution_count": 120,
   "metadata": {
    "collapsed": false
   },
   "outputs": [
    {
     "name": "stdout",
     "output_type": "stream",
     "text": [
      "[Getting data:]####[Getting data:]####[Getting data:]####"
     ]
    }
   ],
   "source": [
    "indexPriceData = {}\n",
    "for code in indexCodeList:\n",
    "    indexPriceData[code] = ts.get_hist_data(code)['close']    \n",
    "\n",
    "stockPriceData = {}\n",
    "for code in  stockCodeList:\n",
    "    s = ts.get_h_data(code)['close']    \n",
    "    s.index = Series(s.index).apply(lambda x: datetime.strftime(x, \"%Y-%m-%d\"))\n",
    "    stockPriceData[code] = s"
   ]
  },
  {
   "cell_type": "markdown",
   "metadata": {},
   "source": [
    "# 2.合并形成统一的数据表"
   ]
  },
  {
   "cell_type": "code",
   "execution_count": 119,
   "metadata": {
    "collapsed": false
   },
   "outputs": [
    {
     "data": {
      "text/html": [
       "<div>\n",
       "<table border=\"1\" class=\"dataframe\">\n",
       "  <thead>\n",
       "    <tr style=\"text-align: right;\">\n",
       "      <th></th>\n",
       "      <th>sh</th>\n",
       "      <th>sz</th>\n",
       "      <th>600815</th>\n",
       "      <th>600848</th>\n",
       "      <th>002337</th>\n",
       "    </tr>\n",
       "  </thead>\n",
       "  <tbody>\n",
       "    <tr>\n",
       "      <th>2015-10-12</th>\n",
       "      <td>3287.66</td>\n",
       "      <td>10961.363</td>\n",
       "      <td>8.58</td>\n",
       "      <td>16.82</td>\n",
       "      <td>8.28</td>\n",
       "    </tr>\n",
       "    <tr>\n",
       "      <th>2015-10-13</th>\n",
       "      <td>3293.23</td>\n",
       "      <td>11042.130</td>\n",
       "      <td>8.67</td>\n",
       "      <td>18.50</td>\n",
       "      <td>8.30</td>\n",
       "    </tr>\n",
       "    <tr>\n",
       "      <th>2015-10-14</th>\n",
       "      <td>3262.44</td>\n",
       "      <td>10901.479</td>\n",
       "      <td>8.47</td>\n",
       "      <td>18.88</td>\n",
       "      <td>8.05</td>\n",
       "    </tr>\n",
       "    <tr>\n",
       "      <th>2015-10-15</th>\n",
       "      <td>3338.07</td>\n",
       "      <td>11229.380</td>\n",
       "      <td>8.80</td>\n",
       "      <td>19.98</td>\n",
       "      <td>8.43</td>\n",
       "    </tr>\n",
       "    <tr>\n",
       "      <th>2015-10-16</th>\n",
       "      <td>3391.35</td>\n",
       "      <td>11374.834</td>\n",
       "      <td>9.24</td>\n",
       "      <td>20.41</td>\n",
       "      <td>8.64</td>\n",
       "    </tr>\n",
       "  </tbody>\n",
       "</table>\n",
       "</div>"
      ],
      "text/plain": [
       "                 sh         sz  600815  600848  002337\n",
       "2015-10-12  3287.66  10961.363    8.58   16.82    8.28\n",
       "2015-10-13  3293.23  11042.130    8.67   18.50    8.30\n",
       "2015-10-14  3262.44  10901.479    8.47   18.88    8.05\n",
       "2015-10-15  3338.07  11229.380    8.80   19.98    8.43\n",
       "2015-10-16  3391.35  11374.834    9.24   20.41    8.64"
      ]
     },
     "execution_count": 119,
     "metadata": {},
     "output_type": "execute_result"
    }
   ],
   "source": [
    "\n",
    "priceData = indexPriceData.copy()\n",
    "priceData.update(stockPriceData)\n",
    "df = pd.concat([priceData[code] for code in priceData.keys()], axis=1, keys=priceData.keys())\n",
    "df = df[indexCodeList  + stockCodeList]\n",
    "df.tail()"
   ]
  },
  {
   "cell_type": "markdown",
   "metadata": {},
   "source": [
    "# 3.将数据到出到文件"
   ]
  },
  {
   "cell_type": "code",
   "execution_count": 123,
   "metadata": {
    "collapsed": true
   },
   "outputs": [],
   "source": [
    "writer = ExcelWriter('output.xls')\n",
    "df.to_excel(writer,u'data')\n",
    "writer.save()"
   ]
  },
  {
   "cell_type": "markdown",
   "metadata": {},
   "source": [
    "# 4.读取导出的文件"
   ]
  },
  {
   "cell_type": "code",
   "execution_count": 127,
   "metadata": {
    "collapsed": false
   },
   "outputs": [
    {
     "data": {
      "text/html": [
       "<div>\n",
       "<table border=\"1\" class=\"dataframe\">\n",
       "  <thead>\n",
       "    <tr style=\"text-align: right;\">\n",
       "      <th></th>\n",
       "      <th>sh</th>\n",
       "      <th>sz</th>\n",
       "      <th>600815</th>\n",
       "      <th>600848</th>\n",
       "      <th>002337</th>\n",
       "    </tr>\n",
       "  </thead>\n",
       "  <tbody>\n",
       "    <tr>\n",
       "      <th>2015-10-12</th>\n",
       "      <td>3287.66</td>\n",
       "      <td>10961.363</td>\n",
       "      <td>8.58</td>\n",
       "      <td>16.82</td>\n",
       "      <td>8.28</td>\n",
       "    </tr>\n",
       "    <tr>\n",
       "      <th>2015-10-13</th>\n",
       "      <td>3293.23</td>\n",
       "      <td>11042.130</td>\n",
       "      <td>8.67</td>\n",
       "      <td>18.50</td>\n",
       "      <td>8.30</td>\n",
       "    </tr>\n",
       "    <tr>\n",
       "      <th>2015-10-14</th>\n",
       "      <td>3262.44</td>\n",
       "      <td>10901.479</td>\n",
       "      <td>8.47</td>\n",
       "      <td>18.88</td>\n",
       "      <td>8.05</td>\n",
       "    </tr>\n",
       "    <tr>\n",
       "      <th>2015-10-15</th>\n",
       "      <td>3338.07</td>\n",
       "      <td>11229.380</td>\n",
       "      <td>8.80</td>\n",
       "      <td>19.98</td>\n",
       "      <td>8.43</td>\n",
       "    </tr>\n",
       "    <tr>\n",
       "      <th>2015-10-16</th>\n",
       "      <td>3391.35</td>\n",
       "      <td>11374.834</td>\n",
       "      <td>9.24</td>\n",
       "      <td>20.41</td>\n",
       "      <td>8.64</td>\n",
       "    </tr>\n",
       "  </tbody>\n",
       "</table>\n",
       "</div>"
      ],
      "text/plain": [
       "                 sh         sz  600815  600848  002337\n",
       "2015-10-12  3287.66  10961.363    8.58   16.82    8.28\n",
       "2015-10-13  3293.23  11042.130    8.67   18.50    8.30\n",
       "2015-10-14  3262.44  10901.479    8.47   18.88    8.05\n",
       "2015-10-15  3338.07  11229.380    8.80   19.98    8.43\n",
       "2015-10-16  3391.35  11374.834    9.24   20.41    8.64"
      ]
     },
     "execution_count": 127,
     "metadata": {},
     "output_type": "execute_result"
    }
   ],
   "source": [
    "data = pd.io.excel.read_excel('output.xls','data')\n",
    "data.tail()"
   ]
  },
  {
   "cell_type": "markdown",
   "metadata": {},
   "source": [
    "# 5.计算方差\n",
    "例1．计算下列一组数据的极差、方差及标准差（精确到0.01) <br />\n",
    "50，55，96，98，65，100，70，90，85，100<br/>\n",
    "方差为:334.69<br/>"
   ]
  },
  {
   "cell_type": "code",
   "execution_count": 161,
   "metadata": {
    "collapsed": false
   },
   "outputs": [
    {
     "data": {
      "text/plain": [
       "8.25"
      ]
     },
     "execution_count": 161,
     "metadata": {},
     "output_type": "execute_result"
    }
   ],
   "source": [
    "x = [50, 55, 96, 98, 65, 100, 70, 90, 85, 1]\n",
    "np.var(a)\n",
    "#help(np.var)"
   ]
  },
  {
   "cell_type": "markdown",
   "metadata": {},
   "source": [
    "# 6.相关系数的计算"
   ]
  },
  {
   "cell_type": "code",
   "execution_count": 162,
   "metadata": {
    "collapsed": false
   },
   "outputs": [
    {
     "data": {
      "text/plain": [
       "(0.69213308131964058, 0.026563850209295529)"
      ]
     },
     "execution_count": 162,
     "metadata": {},
     "output_type": "execute_result"
    }
   ],
   "source": [
    "x=[2,4,5,6,4,7,8,5,6,7]\n",
    "y=[3,2,6,5,3,6,5,4,4,5]\n",
    "pearsonr(x,y)\n"
   ]
  },
  {
   "cell_type": "markdown",
   "metadata": {},
   "source": [
    "# 7.计算协方差\n",
    "首先计算x、y的期望值：<br/>\n",
    "ux=（3+2+4+5+6）/5=4 <br/>\n",
    "uy=（9+7+12+15+17）/5=12<br/>\n",
    "利用你给的公式把xi（3、2、4、5、6）、yi（9、7、12、15、17）及如上计算得到的期望依次带入公式,算得:<br/>\n",
    "Cov（X,Y）=5.2<br/>"
   ]
  },
  {
   "cell_type": "code",
   "execution_count": 163,
   "metadata": {
    "collapsed": false
   },
   "outputs": [
    {
     "data": {
      "text/plain": [
       "5.2000000000000002"
      ]
     },
     "execution_count": 163,
     "metadata": {},
     "output_type": "execute_result"
    }
   ],
   "source": [
    "x = [3, 2, 4, 5, 6]\n",
    "y = [9, 7, 12, 15, 17]\n",
    "pearsonr(x,y)[0] * ( np.var(x) **.5  * np.var(y) **.5)"
   ]
  },
  {
   "cell_type": "markdown",
   "metadata": {},
   "source": [
    "# 8.计算收益率"
   ]
  },
  {
   "cell_type": "code",
   "execution_count": 167,
   "metadata": {
    "collapsed": false
   },
   "outputs": [
    {
     "data": {
      "text/plain": [
       "0         NaN\n",
       "1    0.500000\n",
       "2    0.333333\n",
       "3    0.250000\n",
       "4    0.200000\n",
       "dtype: float64"
      ]
     },
     "execution_count": 167,
     "metadata": {},
     "output_type": "execute_result"
    }
   ],
   "source": [
    "a = Series([1, 2, 3, 4, 5])\n",
    "a.diff() / a"
   ]
  },
  {
   "cell_type": "code",
   "execution_count": null,
   "metadata": {
    "collapsed": true
   },
   "outputs": [],
   "source": []
  }
 ],
 "metadata": {
  "kernelspec": {
   "display_name": "IPython (Python 2)",
   "language": "python",
   "name": "python2"
  },
  "language_info": {
   "codemirror_mode": {
    "name": "ipython",
    "version": 2
   },
   "file_extension": ".py",
   "mimetype": "text/x-python",
   "name": "python",
   "nbconvert_exporter": "python",
   "pygments_lexer": "ipython2",
   "version": "2.7.6"
  }
 },
 "nbformat": 4,
 "nbformat_minor": 0
}
